{
 "cells": [
  {
   "cell_type": "code",
   "execution_count": null,
   "id": "dabc8457",
   "metadata": {},
   "outputs": [],
   "source": [
    "import requests\n",
    "import pandas as pd\n",
    "import matplotlib.pyplot as plt\n",
    "import seaborn as sns"
   ]
  },
  {
   "cell_type": "markdown",
   "id": "3a56a4ff",
   "metadata": {},
   "source": [
    "## Notes\n",
    "\n",
    "- paging is auto set to 1000, so only 1000 records were shown per request, to fix this I looked in the API documentation, and under paging saw that you have to set the limit. I set it to be over what the total dataset contained so I could always return everything from the set. this is the ?limit=50000 addition to the endpoint"
   ]
  },
  {
   "cell_type": "code",
   "execution_count": null,
   "id": "f99c4715",
   "metadata": {},
   "outputs": [],
   "source": [
    "endpoint = 'https://data.nashville.gov/resource/fuaa-r5cm.json?$limit=50000'"
   ]
  },
  {
   "cell_type": "markdown",
   "id": "bd89dbba",
   "metadata": {},
   "source": [
    "# 1. Which month had the most 'fire' searches:\n",
    "\n",
    "## August"
   ]
  },
  {
   "cell_type": "code",
   "execution_count": null,
   "id": "e318f223",
   "metadata": {},
   "outputs": [],
   "source": [
    "params = {'year': '2016',\n",
    "          'query_text': 'fire'}"
   ]
  },
  {
   "cell_type": "code",
   "execution_count": null,
   "id": "903ac9e8",
   "metadata": {},
   "outputs": [],
   "source": [
    "response = requests.get(endpoint, params = params)"
   ]
  },
  {
   "cell_type": "code",
   "execution_count": null,
   "id": "eced5f12",
   "metadata": {},
   "outputs": [],
   "source": [
    "response"
   ]
  },
  {
   "cell_type": "code",
   "execution_count": null,
   "id": "0dcdb760",
   "metadata": {},
   "outputs": [],
   "source": [
    "res = response.json()"
   ]
  },
  {
   "cell_type": "code",
   "execution_count": null,
   "id": "a667acfd",
   "metadata": {},
   "outputs": [],
   "source": [
    "res"
   ]
  },
  {
   "cell_type": "code",
   "execution_count": null,
   "id": "10e4ab0e",
   "metadata": {},
   "outputs": [],
   "source": [
    "len(res)"
   ]
  },
  {
   "cell_type": "code",
   "execution_count": null,
   "id": "53ab2f39",
   "metadata": {},
   "outputs": [],
   "source": [
    "res[0].keys()"
   ]
  },
  {
   "cell_type": "code",
   "execution_count": null,
   "id": "4d07447b",
   "metadata": {},
   "outputs": [],
   "source": [
    "fire_search = pd.DataFrame(res)"
   ]
  },
  {
   "cell_type": "code",
   "execution_count": null,
   "id": "6eac5ab1",
   "metadata": {},
   "outputs": [],
   "source": [
    "fire_search"
   ]
  },
  {
   "cell_type": "code",
   "execution_count": null,
   "id": "3fb1fd6c",
   "metadata": {},
   "outputs": [],
   "source": [
    "fire_search = fire_search.sort_values('query_count', ascending = False)"
   ]
  },
  {
   "cell_type": "code",
   "execution_count": null,
   "id": "f338fa8a",
   "metadata": {
    "scrolled": true
   },
   "outputs": [],
   "source": [
    "fire_search.dtypes"
   ]
  },
  {
   "cell_type": "code",
   "execution_count": null,
   "id": "9db5cc8c",
   "metadata": {},
   "outputs": [],
   "source": [
    "fire_search['query_count'] = pd.to_numeric(fire_search['query_count'])"
   ]
  },
  {
   "cell_type": "code",
   "execution_count": null,
   "id": "29e33948",
   "metadata": {
    "scrolled": true
   },
   "outputs": [],
   "source": [
    "fire_search.nlargest(3, 'query_count')"
   ]
  },
  {
   "cell_type": "markdown",
   "id": "8bd3aba5",
   "metadata": {},
   "source": [
    "# 2. How many times was a query run more than 100 times in one month? 1000 times"
   ]
  },
  {
   "cell_type": "code",
   "execution_count": null,
   "id": "0caf84ec",
   "metadata": {},
   "outputs": [],
   "source": [
    "# forgot to change limit here, can do with parameters, should have noticed the result having 1000 rows which is sketchy,\n",
    "# this affects 3 too since i was lazy and didnt make a new response\n",
    "endpoint2 = 'https://data.nashville.gov/resource/fuaa-r5cm.json?$where=query_count > 100'\n",
    "\n",
    "response2 = requests.get(endpoint2)"
   ]
  },
  {
   "cell_type": "code",
   "execution_count": null,
   "id": "9bac203a",
   "metadata": {},
   "outputs": [],
   "source": [
    "response2"
   ]
  },
  {
   "cell_type": "code",
   "execution_count": null,
   "id": "d04b6eaa",
   "metadata": {},
   "outputs": [],
   "source": [
    "response2.text"
   ]
  },
  {
   "cell_type": "code",
   "execution_count": null,
   "id": "338c787f",
   "metadata": {},
   "outputs": [],
   "source": [
    "res2 = response2.json()"
   ]
  },
  {
   "cell_type": "code",
   "execution_count": null,
   "id": "a8515808",
   "metadata": {},
   "outputs": [],
   "source": [
    "res2"
   ]
  },
  {
   "cell_type": "code",
   "execution_count": null,
   "id": "6910afbf",
   "metadata": {},
   "outputs": [],
   "source": [
    "over_100 = pd.DataFrame(res2)"
   ]
  },
  {
   "cell_type": "code",
   "execution_count": null,
   "id": "0a46e9d6",
   "metadata": {},
   "outputs": [],
   "source": [
    "over_100"
   ]
  },
  {
   "cell_type": "markdown",
   "id": "8617c78e",
   "metadata": {},
   "source": [
    "# 3. How many times 'codes' was searched for than 100 times in a month? 39\n",
    "\n",
    "## does this really need to be another API request, cant you just get this from the above dataframe, over_100?"
   ]
  },
  {
   "cell_type": "code",
   "execution_count": null,
   "id": "6b71f25a",
   "metadata": {},
   "outputs": [],
   "source": [
    "over_100.query_text.value_counts()"
   ]
  },
  {
   "cell_type": "markdown",
   "id": "f2a62931",
   "metadata": {},
   "source": [
    "# 4. Make an API request that returns the entire Top 500 Monthly Searches dataset. Make a chart that shows the number of times \"maps\" was searched in a month across the entire time frame."
   ]
  },
  {
   "cell_type": "code",
   "execution_count": null,
   "id": "dca00f9c",
   "metadata": {},
   "outputs": [],
   "source": [
    "response4 = requests.get(endpoint)"
   ]
  },
  {
   "cell_type": "code",
   "execution_count": null,
   "id": "60f2e118",
   "metadata": {},
   "outputs": [],
   "source": [
    "response4"
   ]
  },
  {
   "cell_type": "code",
   "execution_count": null,
   "id": "60cea79d",
   "metadata": {},
   "outputs": [],
   "source": [
    "res4 = response4.json()"
   ]
  },
  {
   "cell_type": "code",
   "execution_count": null,
   "id": "4cad0743",
   "metadata": {},
   "outputs": [],
   "source": [
    "#before adding the limit =50000, this length was 1000, which was sketchy, so i looked for any\n",
    "# data return limits in the api docs and fixed it. now it looks right\n",
    "len(res4)"
   ]
  },
  {
   "cell_type": "code",
   "execution_count": null,
   "id": "200565d6",
   "metadata": {},
   "outputs": [],
   "source": [
    "res4"
   ]
  },
  {
   "cell_type": "code",
   "execution_count": null,
   "id": "c73318c6",
   "metadata": {},
   "outputs": [],
   "source": [
    "top_500 = pd.DataFrame(res4)"
   ]
  },
  {
   "cell_type": "code",
   "execution_count": null,
   "id": "20c6fea3",
   "metadata": {},
   "outputs": [],
   "source": [
    "top_500"
   ]
  },
  {
   "cell_type": "code",
   "execution_count": null,
   "id": "afcf88f0",
   "metadata": {},
   "outputs": [],
   "source": [
    "top_500.year.unique()"
   ]
  },
  {
   "cell_type": "code",
   "execution_count": null,
   "id": "b5866a35",
   "metadata": {},
   "outputs": [],
   "source": [
    "# gonna want to use month_name and not month\n",
    "top_500.isna().sum()"
   ]
  },
  {
   "cell_type": "code",
   "execution_count": null,
   "id": "3506c31e",
   "metadata": {},
   "outputs": [],
   "source": [
    "maps = top_500.loc[top_500.query_text == 'maps'].reset_index(drop = True)"
   ]
  },
  {
   "cell_type": "code",
   "execution_count": null,
   "id": "b6750492",
   "metadata": {},
   "outputs": [],
   "source": [
    "maps.head()"
   ]
  },
  {
   "cell_type": "code",
   "execution_count": null,
   "id": "79244b47",
   "metadata": {
    "scrolled": true
   },
   "outputs": [],
   "source": [
    "maps.dtypes"
   ]
  },
  {
   "cell_type": "code",
   "execution_count": null,
   "id": "024ae1a4",
   "metadata": {},
   "outputs": [],
   "source": [
    "maps['query_count'] = pd.to_numeric(maps['query_count'])"
   ]
  },
  {
   "cell_type": "code",
   "execution_count": null,
   "id": "16824c20",
   "metadata": {},
   "outputs": [],
   "source": [
    "maps.dtypes"
   ]
  },
  {
   "cell_type": "code",
   "execution_count": null,
   "id": "e498920e",
   "metadata": {},
   "outputs": [],
   "source": [
    "maps_by_month = maps.groupby('month_name')['query_count'].sum().reset_index()"
   ]
  },
  {
   "cell_type": "code",
   "execution_count": null,
   "id": "c88931bc",
   "metadata": {},
   "outputs": [],
   "source": [
    "maps_by_month"
   ]
  },
  {
   "cell_type": "code",
   "execution_count": null,
   "id": "857db491",
   "metadata": {},
   "outputs": [],
   "source": [
    "# make this nicer later, for now i just want to get some practice with API stuff\n",
    "sns.barplot(data=maps_by_month, x='month_name', y='query_count')"
   ]
  },
  {
   "cell_type": "markdown",
   "id": "196a32b2",
   "metadata": {},
   "source": [
    "# 5. Pull data from hubnash 311, how many rows can you return? Compared to top 500 data?\n",
    "\n",
    "## The limit for both datasets were automatically set at 1000, but this can be changed. The top 500 data had ~ 50,000 rows, while the 311 data has ~ 1066000 rows"
   ]
  },
  {
   "cell_type": "code",
   "execution_count": null,
   "id": "96c75315",
   "metadata": {},
   "outputs": [],
   "source": [
    "# this limit isnt high enough, but it takes forever to set it to 1070000 so just leave it here\n",
    "endpoint311 = 'https://data.nashville.gov/resource/7qhx-rexh.json?$limit=50000'"
   ]
  },
  {
   "cell_type": "code",
   "execution_count": null,
   "id": "e007903a",
   "metadata": {},
   "outputs": [],
   "source": [
    "response5 = requests.get(endpoint311)"
   ]
  },
  {
   "cell_type": "code",
   "execution_count": null,
   "id": "f7dd2a7a",
   "metadata": {},
   "outputs": [],
   "source": [
    "response5"
   ]
  },
  {
   "cell_type": "code",
   "execution_count": null,
   "id": "05b5af99",
   "metadata": {},
   "outputs": [],
   "source": [
    "res5 = response5.json()"
   ]
  },
  {
   "cell_type": "code",
   "execution_count": null,
   "id": "3f35cf0c",
   "metadata": {},
   "outputs": [],
   "source": [
    "res5"
   ]
  },
  {
   "cell_type": "code",
   "execution_count": null,
   "id": "c2e3b215",
   "metadata": {},
   "outputs": [],
   "source": [
    "len(res5)"
   ]
  },
  {
   "cell_type": "markdown",
   "id": "62a096c9",
   "metadata": {},
   "source": [
    "# 6. Find 2 new data sets on data.nashville.gov, make API requests to pull the data, and do an analysis that combines the data sets."
   ]
  },
  {
   "cell_type": "code",
   "execution_count": null,
   "id": "96bb23e8",
   "metadata": {},
   "outputs": [],
   "source": [
    "endpointevents = 'https://data.nashville.gov/resource/vygj-v677.json?$limit=5000'"
   ]
  },
  {
   "cell_type": "code",
   "execution_count": null,
   "id": "78b911ec",
   "metadata": {},
   "outputs": [],
   "source": [
    "enpointwifi = 'https://data.nashville.gov/resource/4ugp-s85t.json'"
   ]
  },
  {
   "cell_type": "code",
   "execution_count": null,
   "id": "2488e924",
   "metadata": {},
   "outputs": [],
   "source": [
    "response_events = requests.get(endpointevents)"
   ]
  },
  {
   "cell_type": "code",
   "execution_count": null,
   "id": "426fb334",
   "metadata": {},
   "outputs": [],
   "source": [
    "res_events = response_events.json()"
   ]
  },
  {
   "cell_type": "code",
   "execution_count": null,
   "id": "557606c4",
   "metadata": {
    "scrolled": true
   },
   "outputs": [],
   "source": [
    "res_events"
   ]
  },
  {
   "cell_type": "code",
   "execution_count": null,
   "id": "422254ac",
   "metadata": {},
   "outputs": [],
   "source": [
    "events = pd.DataFrame(res_events)"
   ]
  },
  {
   "cell_type": "code",
   "execution_count": null,
   "id": "c3bf6c5b",
   "metadata": {},
   "outputs": [],
   "source": [
    "events.head()"
   ]
  },
  {
   "cell_type": "code",
   "execution_count": null,
   "id": "6560abbc",
   "metadata": {},
   "outputs": [],
   "source": [
    "response_wifi = requests.get(enpointwifi)"
   ]
  },
  {
   "cell_type": "code",
   "execution_count": null,
   "id": "7ad3fe10",
   "metadata": {},
   "outputs": [],
   "source": [
    "res_wifi = response_wifi.json()"
   ]
  },
  {
   "cell_type": "code",
   "execution_count": null,
   "id": "dc8bf008",
   "metadata": {},
   "outputs": [],
   "source": [
    "res_wifi"
   ]
  },
  {
   "cell_type": "code",
   "execution_count": null,
   "id": "1d873a36",
   "metadata": {},
   "outputs": [],
   "source": [
    "wifi = pd.DataFrame(res_wifi)"
   ]
  },
  {
   "cell_type": "code",
   "execution_count": null,
   "id": "776e13d4",
   "metadata": {
    "scrolled": true
   },
   "outputs": [],
   "source": [
    "wifi.head(2)"
   ]
  },
  {
   "cell_type": "code",
   "execution_count": null,
   "id": "6a08868e",
   "metadata": {},
   "outputs": [],
   "source": [
    "wifi = wifi.drop(columns = [':@computed_region_c9xn_skx3', ':@computed_region_v3ji_vzam', ':@computed_region_gisn_y5cm', ':@computed_region_f73m_vb2k', ':@computed_region_sjpq_96s8', ':@computed_region_cfa7_hbpz'])"
   ]
  },
  {
   "cell_type": "code",
   "execution_count": null,
   "id": "a08e96ad",
   "metadata": {},
   "outputs": [],
   "source": [
    "wifi = wifi.rename(columns = {'site_name': 'location'})"
   ]
  },
  {
   "cell_type": "code",
   "execution_count": null,
   "id": "76b09cb5",
   "metadata": {},
   "outputs": [],
   "source": [
    "wifi.head()"
   ]
  },
  {
   "cell_type": "code",
   "execution_count": null,
   "id": "1723b0f7",
   "metadata": {},
   "outputs": [],
   "source": [
    "events.location.unique()"
   ]
  },
  {
   "cell_type": "code",
   "execution_count": null,
   "id": "7d2006aa",
   "metadata": {},
   "outputs": [],
   "source": [
    "wifi.location.unique()"
   ]
  },
  {
   "cell_type": "code",
   "execution_count": null,
   "id": "228e7f9d",
   "metadata": {},
   "outputs": [],
   "source": [
    "events_wifi = pd.merge(events, wifi, on = ['location'], how = 'left')"
   ]
  },
  {
   "cell_type": "code",
   "execution_count": null,
   "id": "1b792b0d",
   "metadata": {
    "scrolled": true
   },
   "outputs": [],
   "source": [
    "events.shape"
   ]
  },
  {
   "cell_type": "code",
   "execution_count": null,
   "id": "1c7865dc",
   "metadata": {},
   "outputs": [],
   "source": [
    "wifi.shape"
   ]
  },
  {
   "cell_type": "code",
   "execution_count": null,
   "id": "d2cee70b",
   "metadata": {
    "scrolled": true
   },
   "outputs": [],
   "source": [
    "events_wifi"
   ]
  },
  {
   "cell_type": "code",
   "execution_count": null,
   "id": "16f6c5b5",
   "metadata": {},
   "outputs": [],
   "source": [
    "events_wifi.isna().sum()"
   ]
  },
  {
   "cell_type": "code",
   "execution_count": null,
   "id": "595dc243",
   "metadata": {},
   "outputs": [],
   "source": [
    "events_wifi_inner = pd.merge(events, wifi, on = ['location'], how = 'inner')"
   ]
  },
  {
   "cell_type": "markdown",
   "id": "308158b8",
   "metadata": {},
   "source": [
    "## so this did not have the overlap i thought it would, maybe i could get a count of attendance on the inner join and compare that to just the events df, and see if there is a higher attendance, or more events around locations with public wifi?"
   ]
  },
  {
   "cell_type": "code",
   "execution_count": null,
   "id": "3a528b75",
   "metadata": {
    "scrolled": true
   },
   "outputs": [],
   "source": [
    "events_wifi_inner"
   ]
  },
  {
   "cell_type": "markdown",
   "id": "e08ec228",
   "metadata": {},
   "source": [
    "# 7. Compare between data on LA vs Sonoma employment statistics, what industries are most prevalent in big city vs wine country?"
   ]
  },
  {
   "cell_type": "code",
   "execution_count": null,
   "id": "5ab7a74d",
   "metadata": {},
   "outputs": [],
   "source": [
    "endpointla = 'https://data.edd.ca.gov/resource/tzq9-9iaq.json?$limit=80000'"
   ]
  },
  {
   "cell_type": "code",
   "execution_count": null,
   "id": "4b8461be",
   "metadata": {},
   "outputs": [],
   "source": [
    "responsela = requests.get(endpointla)"
   ]
  },
  {
   "cell_type": "code",
   "execution_count": null,
   "id": "8352feb2",
   "metadata": {},
   "outputs": [],
   "source": [
    "resla = responsela.json()"
   ]
  },
  {
   "cell_type": "code",
   "execution_count": null,
   "id": "e8c3c61a",
   "metadata": {},
   "outputs": [],
   "source": [
    "resla"
   ]
  },
  {
   "cell_type": "code",
   "execution_count": null,
   "id": "2e871147",
   "metadata": {},
   "outputs": [],
   "source": [
    "la_stats = pd.DataFrame(resla)"
   ]
  },
  {
   "cell_type": "code",
   "execution_count": null,
   "id": "9103c1bb",
   "metadata": {},
   "outputs": [],
   "source": [
    "la_stats.head(3)"
   ]
  },
  {
   "cell_type": "code",
   "execution_count": null,
   "id": "ae684e2e",
   "metadata": {},
   "outputs": [],
   "source": [
    "endpointsonoma = 'https://data.edd.ca.gov/resource/k7as-d5kv.json?$limit=20000'"
   ]
  },
  {
   "cell_type": "code",
   "execution_count": null,
   "id": "6fd34e21",
   "metadata": {},
   "outputs": [],
   "source": [
    "responseso = requests.get(endpointsonoma)"
   ]
  },
  {
   "cell_type": "code",
   "execution_count": null,
   "id": "e80e5085",
   "metadata": {},
   "outputs": [],
   "source": [
    "resso = responseso.json()"
   ]
  },
  {
   "cell_type": "code",
   "execution_count": null,
   "id": "6ace081f",
   "metadata": {},
   "outputs": [],
   "source": [
    "sonoma_stats = pd.DataFrame(resso)"
   ]
  },
  {
   "cell_type": "code",
   "execution_count": null,
   "id": "3b3cbd7d",
   "metadata": {},
   "outputs": [],
   "source": [
    "sonoma_stats.head()"
   ]
  },
  {
   "cell_type": "code",
   "execution_count": null,
   "id": "90745d29",
   "metadata": {},
   "outputs": [],
   "source": [
    "la_sonoma = pd.concat([la_stats, sonoma_stats])"
   ]
  },
  {
   "cell_type": "code",
   "execution_count": null,
   "id": "7371b1b7",
   "metadata": {},
   "outputs": [],
   "source": [
    "la_sonoma.head()"
   ]
  },
  {
   "cell_type": "code",
   "execution_count": null,
   "id": "d0a3494b",
   "metadata": {},
   "outputs": [],
   "source": [
    "la_stats.shape"
   ]
  },
  {
   "cell_type": "code",
   "execution_count": null,
   "id": "bf7a1382",
   "metadata": {},
   "outputs": [],
   "source": [
    "la_stats.dtypes"
   ]
  },
  {
   "cell_type": "code",
   "execution_count": null,
   "id": "bcb4b3e4",
   "metadata": {
    "scrolled": true
   },
   "outputs": [],
   "source": [
    "sonoma_stats.shape"
   ]
  },
  {
   "cell_type": "code",
   "execution_count": null,
   "id": "10ccba03",
   "metadata": {
    "scrolled": false
   },
   "outputs": [],
   "source": [
    "la_stats['current_employment'] = pd.to_numeric(la_stats['current_employment'])"
   ]
  },
  {
   "cell_type": "code",
   "execution_count": null,
   "id": "881c624d",
   "metadata": {},
   "outputs": [],
   "source": [
    "sonoma_stats['current_employment'] = pd.to_numeric(sonoma_stats['current_employment'])"
   ]
  },
  {
   "cell_type": "code",
   "execution_count": null,
   "id": "afb78108",
   "metadata": {},
   "outputs": [],
   "source": [
    "la_stats.dtypes"
   ]
  },
  {
   "cell_type": "code",
   "execution_count": null,
   "id": "0b9cc05f",
   "metadata": {},
   "outputs": [],
   "source": [
    "sonoma_stats.dtypes"
   ]
  },
  {
   "cell_type": "code",
   "execution_count": null,
   "id": "13f2684f",
   "metadata": {},
   "outputs": [],
   "source": [
    "sonoma_stats = sonoma_stats.loc[sonoma_stats.seasonally_adjusted == 'N']"
   ]
  },
  {
   "cell_type": "code",
   "execution_count": null,
   "id": "0fa6e455",
   "metadata": {},
   "outputs": [],
   "source": [
    "la_stats = la_stats.loc[la_stats.seasonally_adjusted == 'N']"
   ]
  },
  {
   "cell_type": "code",
   "execution_count": null,
   "id": "cd250e01",
   "metadata": {},
   "outputs": [],
   "source": [
    "la_sonoma = la_sonoma.loc[la_sonoma.seasonally_adjusted == 'N']"
   ]
  },
  {
   "cell_type": "code",
   "execution_count": null,
   "id": "6237d370",
   "metadata": {},
   "outputs": [],
   "source": [
    "la_sonoma.industry_title.unique()"
   ]
  },
  {
   "cell_type": "code",
   "execution_count": null,
   "id": "f6cc8331",
   "metadata": {},
   "outputs": [],
   "source": [
    "# to get a group by into a dataframe\n",
    "la_by_year = la_stats.groupby(['year', 'industry_title'])['current_employment'].mean()"
   ]
  },
  {
   "cell_type": "code",
   "execution_count": null,
   "id": "5b3ffb59",
   "metadata": {},
   "outputs": [],
   "source": [
    "type(la_by_year)"
   ]
  },
  {
   "cell_type": "code",
   "execution_count": null,
   "id": "d13b02c2",
   "metadata": {},
   "outputs": [],
   "source": [
    "la_by_year = pd.DataFrame(la_by_year).reset_index()"
   ]
  },
  {
   "cell_type": "code",
   "execution_count": null,
   "id": "e6c02e0a",
   "metadata": {},
   "outputs": [],
   "source": [
    "la_2001 = la_by_year.loc[la_by_year.year == '2001']"
   ]
  },
  {
   "cell_type": "code",
   "execution_count": null,
   "id": "dc11251f",
   "metadata": {},
   "outputs": [],
   "source": [
    "la_2001.head()"
   ]
  },
  {
   "cell_type": "code",
   "execution_count": null,
   "id": "2e3672c2",
   "metadata": {},
   "outputs": [],
   "source": [
    "la_2001 = la_2001.sort_values(by = 'current_employment', ascending = False)"
   ]
  },
  {
   "cell_type": "code",
   "execution_count": null,
   "id": "bb7774cd",
   "metadata": {},
   "outputs": [],
   "source": [
    "# i dropped the first two industries because they were umbrella titles, \n",
    "# that contained other industries \n",
    "la_2001 = la_2001.drop(la_2001.index[[0,1]])"
   ]
  },
  {
   "cell_type": "code",
   "execution_count": null,
   "id": "80c4c4e2",
   "metadata": {},
   "outputs": [],
   "source": [
    "la_2001 = la_2001.drop(la_2001.index[[0,1]])"
   ]
  },
  {
   "cell_type": "markdown",
   "id": "35625214",
   "metadata": {},
   "source": [
    "## Industries with most employment in LA in 2001"
   ]
  },
  {
   "cell_type": "code",
   "execution_count": null,
   "id": "31f15186",
   "metadata": {
    "scrolled": true
   },
   "outputs": [],
   "source": [
    "la_2001.head()"
   ]
  },
  {
   "cell_type": "code",
   "execution_count": null,
   "id": "9840de55",
   "metadata": {},
   "outputs": [],
   "source": [
    "la_2001.shape"
   ]
  },
  {
   "cell_type": "code",
   "execution_count": null,
   "id": "aab2b146",
   "metadata": {},
   "outputs": [],
   "source": [
    "la_2021 = la_by_year.loc[la_by_year.year == '2021']"
   ]
  },
  {
   "cell_type": "code",
   "execution_count": null,
   "id": "c1789d27",
   "metadata": {},
   "outputs": [],
   "source": [
    "la_2021 = la_2021.sort_values(by = 'current_employment', ascending = False)"
   ]
  },
  {
   "cell_type": "code",
   "execution_count": null,
   "id": "55c3bfd8",
   "metadata": {},
   "outputs": [],
   "source": [
    "la_2021 = la_2021.drop(la_2021.index[[0,1]])"
   ]
  },
  {
   "cell_type": "code",
   "execution_count": null,
   "id": "416f8139",
   "metadata": {},
   "outputs": [],
   "source": [
    "la_2021 = la_2021.drop(la_2021.index[[0,1]])"
   ]
  },
  {
   "cell_type": "code",
   "execution_count": null,
   "id": "06fb067b",
   "metadata": {},
   "outputs": [],
   "source": [
    "la_2021.shape"
   ]
  },
  {
   "cell_type": "markdown",
   "id": "91a554dc",
   "metadata": {},
   "source": [
    "## Industries with most employment in LA in 2021"
   ]
  },
  {
   "cell_type": "code",
   "execution_count": null,
   "id": "aa148a58",
   "metadata": {
    "scrolled": true
   },
   "outputs": [],
   "source": [
    "la_2021.head()"
   ]
  },
  {
   "cell_type": "code",
   "execution_count": null,
   "id": "2e460a55",
   "metadata": {},
   "outputs": [],
   "source": [
    "sonoma_by_year = sonoma_stats.groupby(['year', 'industry_title'])['current_employment'].mean()"
   ]
  },
  {
   "cell_type": "code",
   "execution_count": null,
   "id": "6baeb796",
   "metadata": {},
   "outputs": [],
   "source": [
    "sonoma_by_year = pd.DataFrame(sonoma_by_year).reset_index()"
   ]
  },
  {
   "cell_type": "code",
   "execution_count": null,
   "id": "781ce2a8",
   "metadata": {},
   "outputs": [],
   "source": [
    "sonoma_2001 = sonoma_by_year.loc[sonoma_by_year.year == '2001']"
   ]
  },
  {
   "cell_type": "code",
   "execution_count": null,
   "id": "57ec2fd3",
   "metadata": {},
   "outputs": [],
   "source": [
    "sonoma_2001.head()"
   ]
  },
  {
   "cell_type": "code",
   "execution_count": null,
   "id": "505fca72",
   "metadata": {},
   "outputs": [],
   "source": [
    "sonoma_2001 = sonoma_2001.sort_values(by = 'current_employment', ascending = False)"
   ]
  },
  {
   "cell_type": "code",
   "execution_count": null,
   "id": "50979c30",
   "metadata": {},
   "outputs": [],
   "source": [
    "sonoma_2001.head()"
   ]
  },
  {
   "cell_type": "code",
   "execution_count": null,
   "id": "728f3821",
   "metadata": {},
   "outputs": [],
   "source": [
    "sonoma_2001 = sonoma_2001.drop(sonoma_2001.index[[0,1]])"
   ]
  },
  {
   "cell_type": "code",
   "execution_count": null,
   "id": "914b6485",
   "metadata": {},
   "outputs": [],
   "source": [
    "sonoma_2001 = sonoma_2001.drop(sonoma_2001.index[[0,1]])"
   ]
  },
  {
   "cell_type": "code",
   "execution_count": null,
   "id": "99692ded",
   "metadata": {},
   "outputs": [],
   "source": [
    "sonoma_2001.head()"
   ]
  },
  {
   "cell_type": "code",
   "execution_count": null,
   "id": "1d58cf58",
   "metadata": {},
   "outputs": [],
   "source": [
    "sonoma_2021 = sonoma_by_year.loc[sonoma_by_year.year == '2021']"
   ]
  },
  {
   "cell_type": "code",
   "execution_count": null,
   "id": "1e9a37a4",
   "metadata": {},
   "outputs": [],
   "source": [
    "sonoma_2021 = sonoma_2021.sort_values(by = 'current_employment', ascending = False)"
   ]
  },
  {
   "cell_type": "code",
   "execution_count": null,
   "id": "f2b8232e",
   "metadata": {},
   "outputs": [],
   "source": [
    "sonoma_2021.head()"
   ]
  },
  {
   "cell_type": "code",
   "execution_count": null,
   "id": "ad7d3e11",
   "metadata": {},
   "outputs": [],
   "source": [
    "sonoma_2021 = sonoma_2021.drop(sonoma_2021.index[[0,1]])"
   ]
  },
  {
   "cell_type": "code",
   "execution_count": null,
   "id": "4984336d",
   "metadata": {},
   "outputs": [],
   "source": [
    "sonoma_2021 = sonoma_2021.drop(sonoma_2021.index[[0,1]])"
   ]
  },
  {
   "cell_type": "code",
   "execution_count": null,
   "id": "86ea08f9",
   "metadata": {},
   "outputs": [],
   "source": [
    "sonoma_2021.head()"
   ]
  },
  {
   "cell_type": "code",
   "execution_count": null,
   "id": "6920de73",
   "metadata": {},
   "outputs": [],
   "source": [
    "la_2001_top = la_2001.nlargest(10, 'current_employment')"
   ]
  },
  {
   "cell_type": "code",
   "execution_count": null,
   "id": "51baafe0",
   "metadata": {},
   "outputs": [],
   "source": [
    "la_2001_top.head()"
   ]
  },
  {
   "cell_type": "code",
   "execution_count": null,
   "id": "e7003edc",
   "metadata": {},
   "outputs": [],
   "source": [
    "la_2021_top = la_2021.nlargest(10, 'current_employment')"
   ]
  },
  {
   "cell_type": "code",
   "execution_count": null,
   "id": "a21f69f9",
   "metadata": {},
   "outputs": [],
   "source": [
    "la_2021_top.head()"
   ]
  },
  {
   "cell_type": "code",
   "execution_count": null,
   "id": "b2d3dce8",
   "metadata": {},
   "outputs": [],
   "source": [
    "sonoma_2001_top = sonoma_2001.nlargest(10, 'current_employment')"
   ]
  },
  {
   "cell_type": "code",
   "execution_count": null,
   "id": "742836fa",
   "metadata": {},
   "outputs": [],
   "source": [
    "sonoma_2001_top.head()"
   ]
  },
  {
   "cell_type": "code",
   "execution_count": null,
   "id": "f3075222",
   "metadata": {},
   "outputs": [],
   "source": [
    "sonoma_2021_top = sonoma_2021.nlargest(10, 'current_employment')"
   ]
  },
  {
   "cell_type": "code",
   "execution_count": null,
   "id": "dbe35a39",
   "metadata": {},
   "outputs": [],
   "source": [
    "sonoma_2021_top.head()"
   ]
  },
  {
   "cell_type": "markdown",
   "id": "8d2d06d8",
   "metadata": {},
   "source": [
    "## Top 10 industries by year and county"
   ]
  },
  {
   "cell_type": "code",
   "execution_count": null,
   "id": "1ed6ed98",
   "metadata": {},
   "outputs": [],
   "source": [
    "plt.figure(figsize = (8,6))\n",
    "sns.barplot(data = la_2001_top,\n",
    "            orient ='h',\n",
    "            x = 'current_employment',\n",
    "            y = 'industry_title',\n",
    "            hue = 'industry_title',\n",
    "            palette = ['blue', 'orange', 'green', 'red', 'purple', 'brown', 'pink', 'grey', 'greenyellow', 'aqua'],\n",
    "            edgecolor = 'black',\n",
    "            dodge = False).set_title('LA County 2001 Top Industries')\n",
    "\n",
    "plt.legend([],[],frameon=False)\n",
    "plt.xlabel('Number of Jobs')\n",
    "plt.ylabel('Industry')\n"
   ]
  },
  {
   "cell_type": "code",
   "execution_count": null,
   "id": "eb31d36c",
   "metadata": {},
   "outputs": [],
   "source": [
    "plt.figure(figsize = (8,6))\n",
    "sns.barplot(data = la_2021_top,\n",
    "            orient ='h',\n",
    "            x = 'current_employment',\n",
    "            y = 'industry_title',\n",
    "           hue = 'industry_title',\n",
    "            palette = ['blue', 'grey', 'orange', 'aqua', 'purple', 'red', 'pink', 'green', 'cornflowerblue', 'greenyellow'],\n",
    "            edgecolor = 'black',\n",
    "            dodge = False).set_title('LA County 2021 Top Industries')\n",
    "\n",
    "plt.legend([],[],frameon=False)\n",
    "plt.xlabel('Number of Jobs')\n",
    "plt.ylabel('Industry')"
   ]
  },
  {
   "cell_type": "code",
   "execution_count": null,
   "id": "484ccdd8",
   "metadata": {},
   "outputs": [],
   "source": [
    "plt.figure(figsize = (8,6))\n",
    "sns.barplot(data = sonoma_2001_top,\n",
    "            orient ='h',\n",
    "            x = 'current_employment',\n",
    "            y = 'industry_title',\n",
    "              hue = 'industry_title',\n",
    "            palette = ['blue', 'green', 'orange', 'brown', 'red', 'pink', 'yellow', 'grey', 'aqua', 'yellowgreen'],\n",
    "            edgecolor = 'black',\n",
    "            dodge = False).set_title('Sonoma County 2001 Top Industries')\n",
    "\n",
    "plt.legend([],[],frameon=False)\n",
    "plt.xlabel('Number of Jobs')\n",
    "plt.ylabel('Industry')"
   ]
  },
  {
   "cell_type": "code",
   "execution_count": null,
   "id": "48515cc8",
   "metadata": {},
   "outputs": [],
   "source": [
    "plt.figure(figsize = (8,6))\n",
    "sns.barplot(data = sonoma_2021_top,\n",
    "            orient ='h',\n",
    "            x = 'current_employment',\n",
    "            y = 'industry_title',\n",
    "               hue = 'industry_title',\n",
    "            palette = ['blue', 'green', 'orange', 'grey', 'aqua', 'red', 'pink', 'purple', 'yellow', 'brown'],\n",
    "            edgecolor = 'black',\n",
    "            dodge = False).set_title('Sonoma County 2021 Top Industries')\n",
    "\n",
    "plt.legend([],[],frameon=False)\n",
    "plt.xlabel('Number of Jobs')\n",
    "plt.ylabel('Industry')"
   ]
  },
  {
   "cell_type": "markdown",
   "id": "bfd37e1a",
   "metadata": {},
   "source": [
    "### looking at the graphs above, i notced that there are not many differences between counties in top industries, except there are more leisure and hospitality jobs in la, and more retail trade jobs in sonoma\n",
    "\n",
    "### It was more interesting to notice which industries grew between 2001 and 2021\n",
    "\n",
    "healthcare and social assiatance, and educational and health services were both industries that had more jobs in the last 20 years.\n",
    "\n",
    "what other industries had an overall increase in jobs. This will be affected by population growth, so I will just be looking at industries with the highest % of growth comapred to growth of other industries"
   ]
  },
  {
   "cell_type": "code",
   "execution_count": null,
   "id": "c91d817f",
   "metadata": {},
   "outputs": [],
   "source": [
    "growth20_la = pd.merge(la_2001, la_2021, on = 'industry_title', how = 'inner')"
   ]
  },
  {
   "cell_type": "code",
   "execution_count": null,
   "id": "b0f557a9",
   "metadata": {},
   "outputs": [],
   "source": [
    "growth20_la.head()"
   ]
  },
  {
   "cell_type": "code",
   "execution_count": null,
   "id": "9b0b6b11",
   "metadata": {},
   "outputs": [],
   "source": [
    "growth20_la = growth20_la.rename(columns = {'current_employment_x': 'employment_2001', 'current_employment_y': 'employment_2021'})"
   ]
  },
  {
   "cell_type": "code",
   "execution_count": null,
   "id": "d0f8a3fd",
   "metadata": {},
   "outputs": [],
   "source": [
    "growth20_la = growth20_la.drop(columns = ['year_x', 'year_y'])"
   ]
  },
  {
   "cell_type": "code",
   "execution_count": null,
   "id": "0d5614fb",
   "metadata": {},
   "outputs": [],
   "source": [
    "growth20_la.head()"
   ]
  },
  {
   "cell_type": "code",
   "execution_count": null,
   "id": "60cf4df6",
   "metadata": {},
   "outputs": [],
   "source": [
    "growth20_la['growth'] = growth20_la.employment_2021 / growth20_la.employment_2001 "
   ]
  },
  {
   "cell_type": "code",
   "execution_count": null,
   "id": "1cccaefa",
   "metadata": {},
   "outputs": [],
   "source": [
    "growth20_la.head()"
   ]
  },
  {
   "cell_type": "code",
   "execution_count": null,
   "id": "4df1f64b",
   "metadata": {
    "scrolled": true
   },
   "outputs": [],
   "source": [
    "growth20_la = growth20_la.sort_values(by = 'growth', ascending = False)"
   ]
  },
  {
   "cell_type": "markdown",
   "id": "956ed2f8",
   "metadata": {},
   "source": [
    "## below are the industries in LA by growth in the last 20 years (make graph with top and bottom 5)"
   ]
  },
  {
   "cell_type": "code",
   "execution_count": null,
   "id": "f7acdb3f",
   "metadata": {
    "scrolled": true
   },
   "outputs": [],
   "source": [
    "top_growth_la = growth20_la.head()"
   ]
  },
  {
   "cell_type": "code",
   "execution_count": null,
   "id": "f42d0bc8",
   "metadata": {
    "scrolled": true
   },
   "outputs": [],
   "source": [
    "top_growth_la"
   ]
  },
  {
   "cell_type": "code",
   "execution_count": null,
   "id": "9f1e3d8a",
   "metadata": {},
   "outputs": [],
   "source": [
    "sns.barplot(data=top_growth_la, x='growth', y='industry_title', orient='h',\n",
    "            hue='industry_title', \n",
    "            palette=['red', 'silver', 'silver', 'red', 'silver'],\n",
    "            edgecolor='black',\n",
    "            dodge = False).set_title('Top 5 Growth in Industry LA')\n",
    "\n",
    "plt.xlabel('Growth')\n",
    "plt.ylabel('Industry')\n",
    "plt.legend([],[],frameon=False)"
   ]
  },
  {
   "cell_type": "code",
   "execution_count": null,
   "id": "85689d05",
   "metadata": {
    "scrolled": true
   },
   "outputs": [],
   "source": [
    "bottom_growth_la = growth20_la.tail()"
   ]
  },
  {
   "cell_type": "code",
   "execution_count": null,
   "id": "e72a8f4f",
   "metadata": {
    "scrolled": true
   },
   "outputs": [],
   "source": [
    "bottom_growth_la"
   ]
  },
  {
   "cell_type": "code",
   "execution_count": null,
   "id": "57b566fe",
   "metadata": {},
   "outputs": [],
   "source": [
    "sns.barplot(data=bottom_growth_la, x='growth', y='industry_title', orient='h',\n",
    "            hue='industry_title', \n",
    "            palette=['silver', 'silver', 'silver', 'silver', 'red'],\n",
    "            edgecolor='black',\n",
    "            dodge = False).set_title('Bottom 5 Growth in Industry LA')\n",
    "\n",
    "plt.xlabel('Growth')\n",
    "plt.ylabel('Industry')\n",
    "plt.legend([],[],frameon=False)"
   ]
  },
  {
   "cell_type": "code",
   "execution_count": null,
   "id": "c549faf1",
   "metadata": {},
   "outputs": [],
   "source": [
    "growth20_sonoma = pd.merge(sonoma_2001, sonoma_2021, on = 'industry_title', how = 'inner')"
   ]
  },
  {
   "cell_type": "code",
   "execution_count": null,
   "id": "6ba3bf82",
   "metadata": {},
   "outputs": [],
   "source": [
    "growth20_sonoma = growth20_sonoma.rename(columns = {'current_employment_x': 'employment_2001', 'current_employment_y': 'employment_2021'})"
   ]
  },
  {
   "cell_type": "code",
   "execution_count": null,
   "id": "4aad8128",
   "metadata": {},
   "outputs": [],
   "source": [
    "growth20_sonoma = growth20_sonoma.drop(columns = ['year_x', 'year_y'])"
   ]
  },
  {
   "cell_type": "code",
   "execution_count": null,
   "id": "7929e415",
   "metadata": {},
   "outputs": [],
   "source": [
    "growth20_sonoma.head()"
   ]
  },
  {
   "cell_type": "code",
   "execution_count": null,
   "id": "0ce18fcb",
   "metadata": {},
   "outputs": [],
   "source": [
    "growth20_sonoma['growth'] = growth20_sonoma.employment_2021 / growth20_sonoma.employment_2001 "
   ]
  },
  {
   "cell_type": "code",
   "execution_count": null,
   "id": "8b0a4063",
   "metadata": {},
   "outputs": [],
   "source": [
    "growth20_sonoma.head()"
   ]
  },
  {
   "cell_type": "code",
   "execution_count": null,
   "id": "1e4dfaf1",
   "metadata": {
    "scrolled": true
   },
   "outputs": [],
   "source": [
    "growth20_sonoma = growth20_sonoma.sort_values(by = 'growth', ascending = False)"
   ]
  },
  {
   "cell_type": "markdown",
   "id": "102989be",
   "metadata": {},
   "source": [
    "## below are the industries in Sonoma by growth in the last 20 years (make graph with top and bottom 5)"
   ]
  },
  {
   "cell_type": "code",
   "execution_count": null,
   "id": "87039331",
   "metadata": {},
   "outputs": [],
   "source": [
    "top_growth_sonoma = growth20_sonoma.head()"
   ]
  },
  {
   "cell_type": "code",
   "execution_count": null,
   "id": "9592d576",
   "metadata": {
    "scrolled": true
   },
   "outputs": [],
   "source": [
    "top_growth_sonoma"
   ]
  },
  {
   "cell_type": "code",
   "execution_count": null,
   "id": "e19e494d",
   "metadata": {},
   "outputs": [],
   "source": [
    "sns.barplot(data=top_growth_sonoma, x='growth', y='industry_title', orient='h',\n",
    "            hue='industry_title', \n",
    "            palette=['silver', 'red', 'red', 'silver', 'silver'],\n",
    "            edgecolor='black',\n",
    "            dodge = False).set_title('Top 5 Growth in Industry Sonoma')\n",
    "\n",
    "plt.xlabel('Growth')\n",
    "plt.ylabel('Industry')\n",
    "plt.legend([],[],frameon=False)"
   ]
  },
  {
   "cell_type": "code",
   "execution_count": null,
   "id": "559715c5",
   "metadata": {},
   "outputs": [],
   "source": [
    "bottom_growth_sonoma = growth20_sonoma.tail()"
   ]
  },
  {
   "cell_type": "code",
   "execution_count": null,
   "id": "d0c6c622",
   "metadata": {
    "scrolled": true
   },
   "outputs": [],
   "source": [
    "bottom_growth_sonoma"
   ]
  },
  {
   "cell_type": "code",
   "execution_count": null,
   "id": "4acf130c",
   "metadata": {},
   "outputs": [],
   "source": [
    "sns.barplot(data=bottom_growth_sonoma, x='growth', y='industry_title', orient='h',\n",
    "            hue='industry_title', \n",
    "            palette=['silver', 'silver', 'red', 'silver', 'red'],\n",
    "            edgecolor='black',\n",
    "            dodge = False).set_title('Bottom 5 Growth in Industry Sonoma')\n",
    "\n",
    "plt.xlabel('Growth')\n",
    "plt.ylabel('Industry')\n",
    "plt.legend([],[],frameon=False)"
   ]
  },
  {
   "cell_type": "markdown",
   "id": "e3d4ebf0",
   "metadata": {},
   "source": [
    "# employment flux by season in sonoma and la, for 5 prevalent industries.\n",
    "\n",
    "## compare 2021 with 2020 (did covid stuff make notable changes here?)\n",
    "\n",
    "not really"
   ]
  },
  {
   "cell_type": "code",
   "execution_count": null,
   "id": "e66b0e55",
   "metadata": {},
   "outputs": [],
   "source": [
    "la_stats5_21 = la_stats.loc[la_stats.industry_title.isin(['Educational and Health Services', 'Trade, Transportation and Utilities', 'Government', 'Goods Producing', 'Health Care and Social Assistance'])]"
   ]
  },
  {
   "cell_type": "code",
   "execution_count": null,
   "id": "0d5ce15a",
   "metadata": {},
   "outputs": [],
   "source": [
    "la_stats5_21 = la_stats5_21.loc[la_stats5_21.year == '2021']"
   ]
  },
  {
   "cell_type": "code",
   "execution_count": null,
   "id": "87139e63",
   "metadata": {},
   "outputs": [],
   "source": [
    "la_stats5_21.head()"
   ]
  },
  {
   "cell_type": "code",
   "execution_count": null,
   "id": "ff33f1b5",
   "metadata": {},
   "outputs": [],
   "source": [
    "sonoma_stats5_21 = sonoma_stats.loc[sonoma_stats.industry_title.isin(['Educational and Health Services', 'Trade, Transportation and Utilities', 'Government', 'Goods Producing', 'Health Care and Social Assistance'])]"
   ]
  },
  {
   "cell_type": "code",
   "execution_count": null,
   "id": "4b6cb1ce",
   "metadata": {},
   "outputs": [],
   "source": [
    "sonoma_stats5_21 = sonoma_stats5_21.loc[sonoma_stats5_21.year == '2021']"
   ]
  },
  {
   "cell_type": "code",
   "execution_count": null,
   "id": "03d52a59",
   "metadata": {},
   "outputs": [],
   "source": [
    "sonoma_stats5_21.head()"
   ]
  },
  {
   "cell_type": "code",
   "execution_count": null,
   "id": "df6d77ca",
   "metadata": {},
   "outputs": [],
   "source": [
    "la5_2021 = la_stats5_21.groupby(['month', 'industry_title'])['current_employment'].mean()"
   ]
  },
  {
   "cell_type": "code",
   "execution_count": null,
   "id": "5d3e4a6a",
   "metadata": {},
   "outputs": [],
   "source": [
    "la5_2021 = pd.DataFrame(la5_2021).reset_index()"
   ]
  },
  {
   "cell_type": "code",
   "execution_count": null,
   "id": "85c54328",
   "metadata": {},
   "outputs": [],
   "source": [
    "la5_2021.head()"
   ]
  },
  {
   "cell_type": "markdown",
   "id": "0df6e100",
   "metadata": {},
   "source": [
    "## change in employment in LA by month\n",
    "\n",
    "## (I picked 5 prevalent industries to compare)"
   ]
  },
  {
   "cell_type": "code",
   "execution_count": null,
   "id": "9ec9712e",
   "metadata": {},
   "outputs": [],
   "source": [
    "#la 2021 flux by month\n",
    "la_2021_grid = sns.FacetGrid(la5_2021, col = 'industry_title',\n",
    "                             col_wrap = 2,\n",
    "                             height = 5)\n",
    "\n",
    "la_2021_grid.map(sns.barplot, 'current_employment', 'month', orient ='h')\n",
    "\n",
    "la_2021_grid.set_xlabels('Number of Jobs')\n",
    "la_2021_grid.fig.suptitle('Change in Employment by Month: LA 2021', y=1.03, fontsize = '20')"
   ]
  },
  {
   "cell_type": "code",
   "execution_count": null,
   "id": "febf8049",
   "metadata": {},
   "outputs": [],
   "source": [
    "la_stats5_20 = la_stats.loc[la_stats.industry_title.isin(['Educational and Health Services', 'Trade, Transportation and Utilities', 'Government', 'Goods Producing', 'Health Care and Social Assistance'])]"
   ]
  },
  {
   "cell_type": "code",
   "execution_count": null,
   "id": "d841ae8d",
   "metadata": {},
   "outputs": [],
   "source": [
    "la_stats5_20 = la_stats5_20.loc[la_stats5_20.year == '2020']"
   ]
  },
  {
   "cell_type": "code",
   "execution_count": null,
   "id": "1743af0f",
   "metadata": {},
   "outputs": [],
   "source": [
    "la_stats5_20.head()"
   ]
  },
  {
   "cell_type": "code",
   "execution_count": null,
   "id": "1aa682cc",
   "metadata": {},
   "outputs": [],
   "source": [
    "la5_2020 = la_stats5_20.groupby(['month', 'industry_title'])['current_employment'].mean()"
   ]
  },
  {
   "cell_type": "code",
   "execution_count": null,
   "id": "35b353e2",
   "metadata": {},
   "outputs": [],
   "source": [
    "la5_2020 = pd.DataFrame(la5_2020).reset_index()"
   ]
  },
  {
   "cell_type": "code",
   "execution_count": null,
   "id": "b19ff340",
   "metadata": {},
   "outputs": [],
   "source": [
    "la5_2020.head()"
   ]
  },
  {
   "cell_type": "code",
   "execution_count": null,
   "id": "03131d43",
   "metadata": {},
   "outputs": [],
   "source": [
    "# la 2020 flux by month\n",
    "la_2020_grid = sns.FacetGrid(la5_2020, col = 'industry_title',\n",
    "                             col_wrap = 2,\n",
    "                             height = 5)\n",
    "\n",
    "la_2020_grid.map(sns.barplot, 'current_employment', 'month', orient ='h')\n",
    "\n",
    "la_2020_grid.set_xlabels('Number of Jobs')\n",
    "la_2020_grid.fig.suptitle('Change in Employment by Month: LA 2020', y=1.03, fontsize = '20')"
   ]
  },
  {
   "cell_type": "markdown",
   "id": "ea28b7f8",
   "metadata": {},
   "source": [
    "## change in employment in Sonoma by month\n",
    "\n",
    "## (I picked 5 prevalent industries to compare)"
   ]
  },
  {
   "cell_type": "code",
   "execution_count": null,
   "id": "3dbfc1c7",
   "metadata": {},
   "outputs": [],
   "source": [
    "sonoma_stats5_21 = sonoma_stats.loc[sonoma_stats.industry_title.isin(['Educational and Health Services', 'Trade, Transportation and Utilities', 'Government', 'Goods Producing', 'Health Care and Social Assistance'])]"
   ]
  },
  {
   "cell_type": "code",
   "execution_count": null,
   "id": "a07fb34e",
   "metadata": {},
   "outputs": [],
   "source": [
    "sonoma_stats5_21 = sonoma_stats5_21.loc[sonoma_stats5_21.year == '2021']"
   ]
  },
  {
   "cell_type": "code",
   "execution_count": null,
   "id": "2c6ec882",
   "metadata": {},
   "outputs": [],
   "source": [
    "sonoma_stats5_21.head()"
   ]
  },
  {
   "cell_type": "code",
   "execution_count": null,
   "id": "76f4aace",
   "metadata": {},
   "outputs": [],
   "source": [
    "sonoma5_2021 = sonoma_stats5_21.groupby(['month', 'industry_title'])['current_employment'].mean()"
   ]
  },
  {
   "cell_type": "code",
   "execution_count": null,
   "id": "755e2d13",
   "metadata": {},
   "outputs": [],
   "source": [
    "sonoma5_2021 = pd.DataFrame(sonoma5_2021).reset_index()"
   ]
  },
  {
   "cell_type": "code",
   "execution_count": null,
   "id": "0b4f7e7c",
   "metadata": {},
   "outputs": [],
   "source": [
    "sonoma5_2021.head()"
   ]
  },
  {
   "cell_type": "code",
   "execution_count": null,
   "id": "95eb2524",
   "metadata": {},
   "outputs": [],
   "source": [
    "sonoma_2021_grid = sns.FacetGrid(sonoma5_2021, col = 'industry_title',\n",
    "                             col_wrap = 2,\n",
    "                             height = 5)\n",
    "\n",
    "sonoma_2021_grid.map(sns.barplot, 'current_employment', 'month', orient ='h')\n",
    "\n",
    "sonoma_2021_grid.set_xlabels('Number of Jobs')\n",
    "sonoma_2021_grid.fig.suptitle('Change in Employment by Month: Sonoma 2021', y=1.03, fontsize = '20')"
   ]
  },
  {
   "cell_type": "code",
   "execution_count": null,
   "id": "224c80d5",
   "metadata": {},
   "outputs": [],
   "source": [
    "sonoma_stats5_20 = sonoma_stats.loc[sonoma_stats.industry_title.isin(['Educational and Health Services', 'Trade, Transportation and Utilities', 'Government', 'Goods Producing', 'Health Care and Social Assistance'])]"
   ]
  },
  {
   "cell_type": "code",
   "execution_count": null,
   "id": "00a6a5e0",
   "metadata": {},
   "outputs": [],
   "source": [
    "sonoma_stats5_20 = sonoma_stats5_20.loc[sonoma_stats5_20.year == '2020']"
   ]
  },
  {
   "cell_type": "code",
   "execution_count": null,
   "id": "8b547b0e",
   "metadata": {},
   "outputs": [],
   "source": [
    "sonoma5_2020 = sonoma_stats5_20.groupby(['month', 'industry_title'])['current_employment'].mean()"
   ]
  },
  {
   "cell_type": "code",
   "execution_count": null,
   "id": "96b7f74e",
   "metadata": {},
   "outputs": [],
   "source": [
    "sonoma5_2020 = pd.DataFrame(sonoma5_2020).reset_index()"
   ]
  },
  {
   "cell_type": "code",
   "execution_count": null,
   "id": "27bff831",
   "metadata": {},
   "outputs": [],
   "source": [
    "sonoma_2020_grid = sns.FacetGrid(sonoma5_2020, col = 'industry_title',\n",
    "                             col_wrap = 2,\n",
    "                             height = 5)\n",
    "\n",
    "sonoma_2020_grid.map(sns.barplot, 'current_employment', 'month', orient ='h')\n",
    "\n",
    "sonoma_2020_grid.set_xlabels('Number of Jobs')\n",
    "sonoma_2020_grid.fig.suptitle('Change in Employment by Month: Sonoma 2020', y=1.03, fontsize = '20')"
   ]
  },
  {
   "cell_type": "code",
   "execution_count": null,
   "id": "29f20603",
   "metadata": {},
   "outputs": [],
   "source": []
  }
 ],
 "metadata": {
  "kernelspec": {
   "display_name": "Python 3 (ipykernel)",
   "language": "python",
   "name": "python3"
  },
  "language_info": {
   "codemirror_mode": {
    "name": "ipython",
    "version": 3
   },
   "file_extension": ".py",
   "mimetype": "text/x-python",
   "name": "python",
   "nbconvert_exporter": "python",
   "pygments_lexer": "ipython3",
   "version": "3.9.7"
  }
 },
 "nbformat": 4,
 "nbformat_minor": 5
}
